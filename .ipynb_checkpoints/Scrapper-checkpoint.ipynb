{
 "cells": [
  {
   "cell_type": "code",
   "execution_count": 1,
   "id": "73f43476",
   "metadata": {},
   "outputs": [],
   "source": [
    "from bs4 import BeautifulSoup\n",
    "from urllib.request import urlopen, Request\n",
    "from urllib.error import URLError, HTTPError\n",
    "import numpy as np\n",
    "import pandas as pd\n",
    "import time\n",
    "from random import random"
   ]
  },
  {
   "cell_type": "code",
   "execution_count": 2,
   "id": "3a826073",
   "metadata": {},
   "outputs": [],
   "source": [
    "headers = {'user-agent': 'Mozilla/5.0 (Windows NT 10.0; Win64; x64) AppleWebKit/537.36 (KHTML, like Gecko) Chrome/95.0.4638.69 Safari/537.36'}\n",
    "headers2 = {'User-Agent': 'Mozilla/5.0 (Windows NT 10.0; Win64; x64) AppleWebKit/537.36 (KHTML, like Gecko) Chrome/95.0.4638.69 Safari/537.36'}\n",
    "html = 0"
   ]
  },
  {
   "cell_type": "code",
   "execution_count": 55,
   "id": "0957004d",
   "metadata": {},
   "outputs": [],
   "source": [
    "start1 = open(r'D:\\Git\\Estudos\\Jrpgs\\Start.txt', \"r\")\n",
    "stop1 = open(r'D:\\Git\\Estudos\\Jrpgs\\Stop.txt', \"r\")\n",
    "\n",
    "start = start1.read()\n",
    "start1.close()\n",
    "stop = stop1.read()\n",
    "stop1.close()"
   ]
  },
  {
   "cell_type": "code",
   "execution_count": 56,
   "id": "0dcb52fa",
   "metadata": {},
   "outputs": [],
   "source": [
    "start = int(start)\n",
    "stop = int(stop)"
   ]
  },
  {
   "cell_type": "code",
   "execution_count": 57,
   "id": "88a0d915",
   "metadata": {},
   "outputs": [],
   "source": [
    "cod_id = np.arange(start,stop,1)"
   ]
  },
  {
   "cell_type": "code",
   "execution_count": 58,
   "id": "c1d54999",
   "metadata": {},
   "outputs": [],
   "source": [
    "start = str(stop)\n",
    "stop = stop+1000\n",
    "stop = str(stop)"
   ]
  },
  {
   "cell_type": "code",
   "execution_count": 6,
   "id": "2c36f5e6",
   "metadata": {},
   "outputs": [],
   "source": [
    "df = pd.DataFrame()"
   ]
  },
  {
   "cell_type": "code",
   "execution_count": 9,
   "id": "b0fbde7e",
   "metadata": {},
   "outputs": [],
   "source": [
    "def BuscaJogo(valor):\n",
    "    teste = False\n",
    "    url = 'https://howlongtobeat.com/game?id='+str(valor)\n",
    "    try:\n",
    "        req = Request(url, headers=headers)\n",
    "        response = urlopen(req)\n",
    "        html = response.read()\n",
    "        teste = True\n",
    "    except HTTPError as e:\n",
    "        #print(e.status, e.reason)\n",
    "        teste = False\n",
    "    except URLError as e:\n",
    "        #print(e.reason)\n",
    "        teste = False\n",
    "        \n",
    "    if teste:\n",
    "        try:\n",
    "            html = html.decode('utf-8')\n",
    "            html = \" \".join(html.split()).replace('> <','><')\n",
    "            return html\n",
    "        except:\n",
    "            return 'NAN'\n",
    "    else:\n",
    "        return 'NAN'"
   ]
  },
  {
   "cell_type": "code",
   "execution_count": 10,
   "id": "62e0bd7f",
   "metadata": {
    "scrolled": false
   },
   "outputs": [
    {
     "name": "stdout",
     "output_type": "stream",
     "text": [
      "1\n",
      "2\n",
      "16\n",
      "18\n",
      "19\n"
     ]
    }
   ],
   "source": [
    "for i in cod_id:\n",
    "    soup = BeautifulSoup(BuscaJogo(i), 'html.parser')\n",
    "    if soup.getText() == 'NAN':\n",
    "        pass\n",
    "    else:\n",
    "        try:\n",
    "            id_add = i\n",
    "\n",
    "        except:\n",
    "            id_add = 'NAN'\n",
    "\n",
    "        try:\n",
    "            Name_add = soup.find_all(class_=\"profile_header shadow_text\")[0].getText()\n",
    "\n",
    "        except:\n",
    "            Name_add = 'NAN'\n",
    "\n",
    "\n",
    "        try:\n",
    "            Main_Story_add = soup.find(class_=\"game_times\").find_all('li')[0].getText().replace(soup.find(class_=\"game_times\").find_all('h5')[0].getText(),'')\n",
    "        except:\n",
    "            Main_Story_add = 'NAN'\n",
    "\n",
    "        try:\n",
    "            Main_Extras_add = soup.find(class_=\"game_times\").find_all('li')[1].getText().replace(soup.find(class_=\"game_times\").find_all('h5')[1].getText(),'')\n",
    "        except:\n",
    "            Main_Extras_add = 'NAN'\n",
    "\n",
    "        try:\n",
    "            Completionist_add = soup.find(class_=\"game_times\").find_all('li')[2].getText().replace(soup.find(class_=\"game_times\").find_all('h5')[2].getText(),'')\n",
    "        except:\n",
    "            Completionist_add = 'NAN'\n",
    "\n",
    "        try:\n",
    "            All_Styles_add = soup.find(class_=\"game_times\").find_all('li')[3].getText().replace(soup.find(class_=\"game_times\").find_all('h5')[3].getText(),'')\n",
    "        except:\n",
    "            All_Styles_add = 'NAN'\n",
    "\n",
    "\n",
    "        try:\n",
    "            soup.find_all(class_=\"profile_info\")\n",
    "            teste = True\n",
    "        except:\n",
    "            teste = False\n",
    "\n",
    "\n",
    "        Plataforms_add = 'NAN'\n",
    "        Genre_add = 'NAN'\n",
    "        Developer_add = 'NAN'\n",
    "        Publisher_add = 'NAN'\n",
    "        NA_add = 'NAN'\n",
    "        EU_add = 'NAN'\n",
    "        JP_add = 'NAN'\n",
    "\n",
    "        if teste:\n",
    "            for j in soup.find_all(class_=\"profile_info\"):\n",
    "                if j.getText().count('Platforms:'):\n",
    "                    Plataforms_add = j.getText().replace('Platforms:', '')\n",
    "                elif j.getText().count('Genre:'):\n",
    "                    Genre_add = j.getText().replace('Genre:', '')\n",
    "                elif j.getText().count('Developer:'):\n",
    "                    Developer_add = j.getText().replace('Developer:', '')\n",
    "                elif j.getText().count('Publisher:'):\n",
    "                    Publisher_add = j.getText().replace('Publisher:', '')\n",
    "                elif j.getText().count('NA:'):\n",
    "                    NA_add = j.getText().replace('NA:', '')\n",
    "                elif j.getText().count('EU:'):\n",
    "                    EU_add = j.getText().replace('EU:', '')\n",
    "                elif j.getText().count('JP:'):\n",
    "                    JP_add = j.getText().replace('JP:', '')\n",
    "                else:\n",
    "                    pass\n",
    "\n",
    "\n",
    "        biblio = {\n",
    "        'id': id_add,\n",
    "        'Name': Name_add,\n",
    "        'Main Story': Main_Story_add,\n",
    "        'Main + Extras': Main_Extras_add,\n",
    "        'Completionist': Completionist_add,\n",
    "        'All Styles': All_Styles_add,\n",
    "        'Platforms':Plataforms_add,\n",
    "        'Genre':Genre_add,\n",
    "        'Developer':Developer_add,\n",
    "        'Publisher':Publisher_add,\n",
    "        'NA':NA_add,\n",
    "        'EU':EU_add,\n",
    "        'JP':JP_add}\n",
    "\n",
    "        df = df.append(biblio, ignore_index = True)\n",
    "        time.sleep(random()/2)\n",
    "\n",
    "        if i%10 == 0:\n",
    "            time.sleep(random()/2)\n",
    "\n",
    "        print(i)"
   ]
  },
  {
   "cell_type": "code",
   "execution_count": 59,
   "id": "28e2da00",
   "metadata": {},
   "outputs": [],
   "source": [
    "df.to_csv(r'D:\\Git\\Estudos\\Jrpgs\\Dados\\out'+start+'.csv',sep=';')"
   ]
  },
  {
   "cell_type": "code",
   "execution_count": 54,
   "id": "ec5d94c6",
   "metadata": {},
   "outputs": [
    {
     "data": {
      "text/plain": [
       "'2000'"
      ]
     },
     "execution_count": 54,
     "metadata": {},
     "output_type": "execute_result"
    }
   ],
   "source": [
    "stop"
   ]
  },
  {
   "cell_type": "code",
   "execution_count": null,
   "id": "00cb22ac",
   "metadata": {},
   "outputs": [],
   "source": [
    "start1 = open(r'D:\\Git\\Estudos\\Jrpgs\\Start.txt', \"w\")\n",
    "stop1 = open(r'D:\\Git\\Estudos\\Jrpgs\\Stop.txt', \"w\")\n",
    "start1.write(start)\n",
    "start1.close()\n",
    "stop1.write(stop)\n",
    "stop1.close()"
   ]
  },
  {
   "cell_type": "code",
   "execution_count": null,
   "id": "cc2860a3",
   "metadata": {},
   "outputs": [],
   "source": []
  },
  {
   "cell_type": "code",
   "execution_count": null,
   "id": "a84cd77a",
   "metadata": {},
   "outputs": [],
   "source": []
  }
 ],
 "metadata": {
  "kernelspec": {
   "display_name": "Python 3",
   "language": "python",
   "name": "python3"
  },
  "language_info": {
   "codemirror_mode": {
    "name": "ipython",
    "version": 3
   },
   "file_extension": ".py",
   "mimetype": "text/x-python",
   "name": "python",
   "nbconvert_exporter": "python",
   "pygments_lexer": "ipython3",
   "version": "3.8.8"
  }
 },
 "nbformat": 4,
 "nbformat_minor": 5
}
